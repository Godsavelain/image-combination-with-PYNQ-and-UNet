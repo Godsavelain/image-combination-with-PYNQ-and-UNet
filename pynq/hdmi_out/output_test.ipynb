{
 "cells": [
  {
   "cell_type": "code",
   "execution_count": 1,
   "metadata": {},
   "outputs": [
    {
     "data": {
      "application/javascript": [
       "\n",
       "try {\n",
       "require(['notebook/js/codecell'], function(codecell) {\n",
       "  codecell.CodeCell.options_default.highlight_modes[\n",
       "      'magic_text/x-csrc'] = {'reg':[/^%%microblaze/]};\n",
       "  Jupyter.notebook.events.one('kernel_ready.Kernel', function(){\n",
       "      Jupyter.notebook.get_cells().map(function(cell){\n",
       "          if (cell.cell_type == 'code'){ cell.auto_highlight(); } }) ;\n",
       "  });\n",
       "});\n",
       "} catch (e) {};\n"
      ]
     },
     "metadata": {},
     "output_type": "display_data"
    },
    {
     "data": {
      "application/javascript": [
       "\n",
       "try {\n",
       "require(['notebook/js/codecell'], function(codecell) {\n",
       "  codecell.CodeCell.options_default.highlight_modes[\n",
       "      'magic_text/x-csrc'] = {'reg':[/^%%pybind11/]};\n",
       "  Jupyter.notebook.events.one('kernel_ready.Kernel', function(){\n",
       "      Jupyter.notebook.get_cells().map(function(cell){\n",
       "          if (cell.cell_type == 'code'){ cell.auto_highlight(); } }) ;\n",
       "  });\n",
       "});\n",
       "} catch (e) {};\n"
      ]
     },
     "metadata": {},
     "output_type": "display_data"
    }
   ],
   "source": [
    "#import libs\n",
    "import time\n",
    "import cv2                                   \n",
    "\n",
    "\n",
    "from matplotlib import pyplot as plt  \n",
    "from pynq import Overlay\n",
    "import pynq.lib.dma\n",
    "from pynq import Xlnk\n",
    "import numpy as np\n",
    "from pynq import MMIO\n",
    "import random\n",
    "from pynq import allocate\n",
    "import numpy as np\n",
    "import socket, time"
   ]
  },
  {
   "cell_type": "code",
   "execution_count": 2,
   "metadata": {},
   "outputs": [
    {
     "data": {
      "text/plain": [
       "True"
      ]
     },
     "execution_count": 2,
     "metadata": {},
     "output_type": "execute_result"
    }
   ],
   "source": [
    "#open camera\n",
    "frame_in_w = 1280\n",
    "frame_in_h = 720\n",
    "\n",
    "cap = cv2.VideoCapture(0)\n",
    "cap.set(cv2.CAP_PROP_FRAME_WIDTH, frame_in_w)#set picture width\n",
    "cap.set(cv2.CAP_PROP_FRAME_HEIGHT, frame_in_h)#set hight\n",
    "cap.open(0)"
   ]
  },
  {
   "cell_type": "code",
   "execution_count": 3,
   "metadata": {},
   "outputs": [],
   "source": [
    "#define data containers\n",
    "pic_in_arr = allocate(shape=(600,800,3),dtype=np.uint8)\n",
    "bg_in_arr = allocate(shape=(600,800,3),dtype=np.uint8)\n",
    "mask_in_arr = allocate(shape=(600,800,3),dtype=np.uint8)\n",
    "out_arr = allocate(shape=(600,800,3),dtype=np.uint8)\n",
    "np_out = np.zeros((600,800,3), dtype=np.uint8)"
   ]
  },
  {
   "cell_type": "code",
   "execution_count": 4,
   "metadata": {},
   "outputs": [],
   "source": [
    "#import ips\n",
    "overlay = Overlay(\"./design_1.bit\")\n",
    "ip = overlay.top_0\n",
    "#dma0 = overlay.axi_dma_0\n",
    "#dma1 = overlay.axi_dma_1\n",
    "#dma2 = overlay.axi_dma_2\n",
    "\n",
    "pic_dma = overlay.axi_dma_1\n",
    "mask_dma = overlay.axi_dma_0\n",
    "back_dma = overlay.axi_dma_2"
   ]
  },
  {
   "cell_type": "code",
   "execution_count": 5,
   "metadata": {},
   "outputs": [],
   "source": [
    "#get background picture\n",
    "bg_img = cv2.imread(\"background.jpg\")\n"
   ]
  },
  {
   "cell_type": "code",
   "execution_count": 6,
   "metadata": {},
   "outputs": [],
   "source": [
    "mask_img = cv2.imread(\"mask.jpg\")"
   ]
  },
  {
   "cell_type": "code",
   "execution_count": 19,
   "metadata": {},
   "outputs": [],
   "source": [
    "num = 0"
   ]
  },
  {
   "cell_type": "code",
   "execution_count": null,
   "metadata": {},
   "outputs": [],
   "source": [
    "#for i in range (1,10):\n",
    "while True:\n",
    "    for i in range (1,3):\n",
    "        ret, np_frame = cap.read()\n",
    "#     print(send_image(np_frame, dest_ip))\n",
    "#     print(send_image(np_frame))\n",
    "#     print(recv_image(example_save_path))\n",
    "        np_frame = cv2.resize(np_frame,(800,600))\n",
    "        send_image(np_frame)\n",
    "        recv_image(example_save_path)\n",
    "        mask_img = cv2.imread(\"test_result.jpg\")\n",
    "        np.copyto(pic_in_arr,np_frame)\n",
    "        np.copyto(bg_in_arr,bg_img)\n",
    "        np.copyto(mask_in_arr,mask_img)\n",
    "    #dma\n",
    "        pic_dma.sendchannel.transfer(pic_in_arr)\n",
    "        mask_dma.sendchannel.transfer(mask_in_arr)\n",
    "        back_dma.sendchannel.transfer(bg_in_arr)\n",
    "        mask_dma.recvchannel.transfer(out_arr)\n",
    "        ip.write(0x00, 0x1)\n",
    "        isready = ip.read(0x00)\n",
    "        while (isready == 1):\n",
    "            isready = ip.read(0x00)\n",
    "        pic_dma.sendchannel.wait()\n",
    "        mask_dma.sendchannel.wait()\n",
    "        back_dma.sendchannel.wait()\n",
    "        mask_dma.recvchannel.wait()\n",
    "        np.copyto(np_out,out_arr)\n",
    "    \n",
    "    #convert to PIL format\n",
    "    #pil_img = Image.fromarray(cv2.cvtColor(np_out,cv2.COLOR_BGR2RGB))\n",
    "    #p_data = np.asarray(pil_img)\n",
    "    \n",
    "    #buf[:,:,0:3]=np.concatenate((np_out[:,:,0],np_out[:,:,1],np_out[:,:,2]))\n",
    "        buf[:,:,0]=np_out[:,:,1]\n",
    "        buf[:,:,1]=np_out[:,:,0]\n",
    "        buf[:,:,2]=np_out[:,:,2]\n",
    "        buf[:,:,3]=0xff\n",
    "\n",
    "    ret, np_frame = cap.read()\n",
    "    a = brightness1(np_frame)\n",
    "    if(a < 110):\n",
    "        num = (num + 1) % 4\n",
    "        if(num == 0):\n",
    "            bg_img = cv2.imread(\"background.jpg\")\n",
    "        if(num == 1):\n",
    "            bg_img = cv2.imread(\"background2.jpg\")\n",
    "        if(num == 2):\n",
    "            bg_img = cv2.imread(\"background3.jpg\")\n",
    "        if(num == 3):\n",
    "            bg_img = cv2.imread(\"background4.jpg\")\n",
    "        \n",
    "    \n",
    "    "
   ]
  },
  {
   "cell_type": "code",
   "execution_count": 6,
   "metadata": {},
   "outputs": [
    {
     "data": {
      "text/plain": [
       "0"
      ]
     },
     "execution_count": 6,
     "metadata": {},
     "output_type": "execute_result"
    }
   ],
   "source": [
    "from pynq import Overlay,allocate\n",
    "import pynq.lib.video\n",
    "from pynq.lib.video.common import PixelFormat,VideoMode\n",
    "\n",
    "framemode = VideoMode(800,600,32)\n",
    "vdma=overlay.axi_vdma_0\n",
    "vdma.writechannel.mode=framemode\n",
    "vdma.writechannel.start()\n",
    "vdma.writechannel.parked\n",
    "\n",
    "#buf=np.zeros((800,600,3),dtype=np.int8)\n",
    "buf=vdma.writechannel.newframe()\n",
    "#buf=np.zeros((600,800,3),dtype=np.int32)\n",
    "\n",
    "#buf[:,:,:]=np.zeros((600,800,4),dtype=np.uint8)\n",
    "\n",
    "\n",
    "vdma.writechannel.setframe(buf)\n",
    "tpg = overlay.v_tpg_0\n",
    "tpg.write(0x10,600)\n",
    "tpg.write(0x18,800)\n",
    "tpg.write(0x40,0)\n",
    "tpg.write(0x20,0x9)\n",
    "tpg.write(0x0,0x81)\n",
    "\n",
    "bin(tpg.read(0x0))\n",
    "tpg.read(0x4)\n",
    "tpg.read(0xc)\n",
    "\n",
    "\n"
   ]
  },
  {
   "cell_type": "code",
   "execution_count": 7,
   "metadata": {},
   "outputs": [],
   "source": [
    "mix = overlay.v_mix_0\n",
    "mix.write(0x4,0)\n",
    "mix.write(0x10,800)\n",
    "mix.write(0x18,600)\n",
    "\n",
    "\n"
   ]
  },
  {
   "cell_type": "code",
   "execution_count": 8,
   "metadata": {},
   "outputs": [],
   "source": [
    "mix.write(0x100,0)\n",
    "mix.write(0x108,0)\n",
    "mix.write(0x110,0)\n",
    "mix.write(0x118,800)\n",
    "mix.write(0x120,48)\n",
    "mix.write(0x128,600)\n",
    "mix.write(0x130,0)\n",
    "\n",
    "mix.write(0x200,255)\n",
    "mix.write(0x208,0)\n",
    "mix.write(0x210,0) \n",
    "mix.write(0x218,800)\n",
    "mix.write(0x220,48)\n",
    "mix.write(0x228,600)\n",
    "mix.write(0x230,0)"
   ]
  },
  {
   "cell_type": "code",
   "execution_count": 9,
   "metadata": {},
   "outputs": [],
   "source": [
    "mix.write(0x40,0b11)\n",
    "mix.write(0x0,0x81)"
   ]
  },
  {
   "cell_type": "code",
   "execution_count": 7,
   "metadata": {},
   "outputs": [],
   "source": [
    "buf[0:20,0:20,:]=[0,0,0,0xff]"
   ]
  },
  {
   "cell_type": "code",
   "execution_count": null,
   "metadata": {},
   "outputs": [],
   "source": [
    "c = overlay"
   ]
  },
  {
   "cell_type": "code",
   "execution_count": null,
   "metadata": {},
   "outputs": [],
   "source": [
    "ret, np_frame = cap.read()"
   ]
  },
  {
   "cell_type": "code",
   "execution_count": null,
   "metadata": {},
   "outputs": [],
   "source": [
    "np_frame.size"
   ]
  },
  {
   "cell_type": "code",
   "execution_count": null,
   "metadata": {},
   "outputs": [],
   "source": [
    "type(np_frame)"
   ]
  },
  {
   "cell_type": "code",
   "execution_count": null,
   "metadata": {},
   "outputs": [],
   "source": [
    "np_frame.shape"
   ]
  },
  {
   "cell_type": "code",
   "execution_count": null,
   "metadata": {},
   "outputs": [],
   "source": [
    "ret, np_frame = cap.read()\n",
    "np_frame.shape"
   ]
  },
  {
   "cell_type": "code",
   "execution_count": 10,
   "metadata": {},
   "outputs": [],
   "source": [
    "# def send_image(image, target_ip):\n",
    "#     data = cv2.imencode('.jpg', image)[1].tobytes()\n",
    "#     len_data = len(data)\n",
    "#     space = (len_data + 9999) // 10000\n",
    "#     UDP_server.sendto(space.to_bytes(4, 'big'), target_ip)\n",
    "#     for i in range(0, space):\n",
    "#         start_idx = i * 10000\n",
    "#         end_idx = min(len_data, (i+1) * 10000)\n",
    "#         UDP_server.sendto(data[start_idx: end_idx], target_ip)\n",
    "#     return 'Send Image OK'\n",
    "\n",
    "def send_image(image):\n",
    "    data = cv2.imencode('.jpg', image)[1].tobytes()\n",
    "    len_data = len(data)\n",
    "    space = len_data\n",
    "    UDP_server.sendall(space.to_bytes(16, 'big'))\n",
    "    UDP_server.sendall(data)\n",
    "    return 'Send Image  OK'\n",
    "\n",
    "# def recv_image(image_path):\n",
    "#     space, addr = UDP_server.recvfrom(10000)\n",
    "#     space = int.from_bytes(space, 'big')\n",
    "#     with open(image_path, 'wb') as f:\n",
    "#         for i in range(space):\n",
    "#             data, addr_now = UDP_server.recvfrom(10000)\n",
    "#             assert addr == addr_now\n",
    "#             f.write(data)\n",
    "#     return 'recv Image OK'\n",
    "def recv_image(image_path):\n",
    "    space = UDP_server.recv(16)\n",
    "    space = int.from_bytes(space, 'big')\n",
    "    #print('space {}'.format(space))\n",
    "    with open(image_path, 'wb') as f:\n",
    "        while space > 0:\n",
    "            data = UDP_server.recv(1024)\n",
    "            #print('data len {}'.format(len(data)))\n",
    "            space -= len(data)\n",
    "            f.write(data)\n",
    "    return 'Recv Image {} OK'.format(image_path)"
   ]
  },
  {
   "cell_type": "code",
   "execution_count": 23,
   "metadata": {},
   "outputs": [],
   "source": [
    "dest_ip = ('192.168.31.56', 13579)\n",
    "UDP_server = socket.socket(socket.AF_INET, socket.SOCK_STREAM)\n",
    "UDP_server.connect(dest_ip)\n",
    "example_image_path = './test.jpg'\n",
    "# example_save_path = './test_result.jpg'\n",
    "example_save_path = './test_result.jpg'"
   ]
  },
  {
   "cell_type": "code",
   "execution_count": 12,
   "metadata": {},
   "outputs": [],
   "source": []
  },
  {
   "cell_type": "code",
   "execution_count": 24,
   "metadata": {},
   "outputs": [
    {
     "data": {
      "text/plain": [
       "-1.0"
      ]
     },
     "execution_count": 24,
     "metadata": {},
     "output_type": "execute_result"
    }
   ],
   "source": []
  },
  {
   "cell_type": "code",
   "execution_count": 13,
   "metadata": {},
   "outputs": [],
   "source": [
    "import numpy as np\n",
    "import copy\n",
    "import random\n",
    "import math\n",
    "from PIL import Image  \n",
    "from PIL import ImageStat"
   ]
  },
  {
   "cell_type": "code",
   "execution_count": 14,
   "metadata": {},
   "outputs": [],
   "source": [
    "def brightness1( in_pic ):\n",
    "    p_img = Image.fromarray(cv2.cvtColor(in_pic,cv2.COLOR_BGR2RGB))\n",
    "    im = p_img.convert('L')   \n",
    "    stat = ImageStat.Stat(im)   \n",
    "    return stat.mean[0]\n",
    "\n"
   ]
  },
  {
   "cell_type": "code",
   "execution_count": 17,
   "metadata": {},
   "outputs": [],
   "source": [
    "ret, np_frame = cap.read()\n",
    "np_frame = cv2.resize(np_frame,(800,600))"
   ]
  },
  {
   "cell_type": "code",
   "execution_count": 18,
   "metadata": {},
   "outputs": [],
   "source": [
    "a = brightness1(np_frame)"
   ]
  },
  {
   "cell_type": "code",
   "execution_count": 19,
   "metadata": {},
   "outputs": [
    {
     "data": {
      "text/plain": [
       "114.32385"
      ]
     },
     "execution_count": 19,
     "metadata": {},
     "output_type": "execute_result"
    }
   ],
   "source": [
    "a"
   ]
  },
  {
   "cell_type": "code",
   "execution_count": 16,
   "metadata": {},
   "outputs": [
    {
     "name": "stdout",
     "output_type": "stream",
     "text": [
      "112.72788958333334\n",
      "110.86021041666666\n",
      "103.21399583333333\n",
      "99.46996041666667\n",
      "115.86536666666667\n",
      "156.89361458333335\n",
      "208.79669166666667\n",
      "237.64398125\n",
      "220.07959375\n",
      "220.67086875\n",
      "214.64135833333333\n",
      "207.32082083333333\n",
      "203.43476666666666\n",
      "181.56767708333334\n",
      "119.5724\n",
      "105.5910625\n",
      "124.01732708333333\n",
      "127.51428958333334\n",
      "117.86539583333334\n",
      "94.80372708333333\n",
      "16.283604166666667\n",
      "34.11997916666667\n",
      "208.02923333333334\n",
      "236.952175\n",
      "215.8358125\n",
      "170.72551458333334\n",
      "166.62151041666667\n",
      "170.29703333333333\n",
      "203.41931875\n",
      "208.99884166666666\n",
      "203.43875833333334\n",
      "194.69137916666668\n",
      "182.34863125\n",
      "161.40652916666667\n",
      "128.99356458333332\n",
      "96.06600416666667\n",
      "85.9868875\n",
      "104.4645875\n",
      "134.56859583333335\n",
      "127.85915208333333\n",
      "175.03899375\n",
      "189.5986375\n",
      "179.85005833333332\n",
      "160.23937083333334\n",
      "149.58459583333334\n",
      "137.40026666666665\n",
      "131.823125\n",
      "129.87161875\n",
      "136.20664583333334\n",
      "136.13280625\n",
      "135.33039791666667\n",
      "132.49258541666666\n",
      "142.43096666666668\n",
      "145.32069791666666\n",
      "142.28274166666668\n",
      "140.795275\n",
      "138.3118375\n",
      "138.06758541666667\n",
      "129.11773125\n",
      "104.90762708333334\n",
      "101.05792083333333\n",
      "103.91575833333333\n",
      "104.07322916666666\n",
      "98.07799791666666\n",
      "96.58626041666666\n",
      "100.723175\n",
      "103.35039166666667\n",
      "103.8764\n",
      "103.55318958333334\n",
      "103.3841\n",
      "102.96307291666666\n",
      "102.76825208333334\n",
      "102.53043958333333\n",
      "102.48025208333334\n",
      "102.45505833333333\n",
      "102.21681041666666\n",
      "102.13167916666667\n",
      "101.63527916666666\n",
      "101.28369791666667\n",
      "100.84706041666666\n",
      "100.62283125\n",
      "101.32667916666666\n",
      "101.35340208333334\n",
      "101.56490625\n",
      "101.7028625\n",
      "101.68186458333334\n",
      "101.65262708333333\n",
      "101.52496875\n",
      "101.36838958333334\n",
      "101.43185833333334\n",
      "101.27227291666667\n",
      "101.09707708333333\n",
      "100.90930416666667\n",
      "100.49976875\n",
      "100.50803541666667\n",
      "101.09421041666667\n",
      "100.36686041666667\n",
      "100.9493125\n",
      "101.26615208333334\n",
      "101.45515416666667\n",
      "102.06339166666666\n",
      "102.06255625\n",
      "102.10903541666667\n",
      "102.15170833333333\n",
      "102.10343541666667\n",
      "94.04717083333334\n",
      "100.61582083333333\n",
      "130.616725\n",
      "121.9584875\n",
      "107.79547916666667\n",
      "90.98985208333333\n",
      "91.07114583333333\n",
      "82.56178958333334\n",
      "64.2578875\n",
      "50.5207375\n",
      "43.35694375\n",
      "44.61999791666667\n",
      "76.93695\n",
      "100.53042083333334\n",
      "89.674025\n",
      "90.25529583333334\n",
      "103.438875\n",
      "115.9024125\n",
      "112.94947291666666\n",
      "109.98808333333334\n",
      "110.73664791666667\n",
      "110.61260208333333\n",
      "110.26778541666667\n",
      "111.69125416666667\n",
      "116.27300625\n",
      "117.38659166666666\n",
      "118.10238541666666\n",
      "117.245325\n",
      "116.12000625\n",
      "114.72010416666667\n",
      "115.22010416666667\n",
      "115.30836666666667\n",
      "116.8857125\n",
      "116.11633958333333\n",
      "113.95056666666666\n",
      "113.81276666666666\n",
      "112.89589791666667\n",
      "112.99374791666666\n",
      "114.33168125\n",
      "114.5922625\n",
      "114.66634583333334\n",
      "115.61208125\n",
      "116.09699583333334\n",
      "119.84702916666667\n",
      "117.58948958333333\n",
      "116.09684583333333\n",
      "112.45483125\n",
      "109.92476666666667\n",
      "108.79657708333333\n",
      "107.77773541666667\n",
      "106.29904583333334\n",
      "101.00882708333333\n",
      "101.3389125\n",
      "104.81529375\n",
      "105.19839791666666\n",
      "102.20569375\n",
      "94.17278125\n",
      "90.27622291666667\n",
      "93.55983333333333\n",
      "102.16207916666667\n",
      "105.06137291666667\n",
      "103.77563125\n",
      "97.98078333333333\n",
      "99.05403541666666\n",
      "104.13149583333333\n",
      "106.26408541666666\n",
      "105.66645208333334\n",
      "101.46676666666667\n",
      "99.72281458333333\n",
      "98.24482083333334\n",
      "96.38105625\n",
      "93.89675833333334\n",
      "84.05111666666667\n",
      "76.80544166666667\n",
      "75.35123125\n",
      "52.23851875\n",
      "31.93086875\n",
      "101.71102916666666\n",
      "168.42435625\n",
      "164.57673541666668\n",
      "147.78011666666666\n",
      "131.24138333333335\n",
      "121.35663958333333\n",
      "116.26304791666666\n",
      "114.80078125\n",
      "113.78574166666667\n",
      "115.19128333333333\n",
      "115.25525208333333\n",
      "114.25441041666667\n",
      "120.61891458333334\n",
      "139.58109375\n",
      "133.22822708333334\n",
      "128.74747083333332\n",
      "122.80398125\n",
      "119.61433958333333\n",
      "116.38720416666666\n",
      "115.75494583333334\n",
      "119.287425\n",
      "129.7265\n",
      "138.52620833333333\n",
      "141.41746666666666\n",
      "136.81246041666665\n",
      "131.37389583333334\n",
      "128.43205208333333\n",
      "123.58595416666667\n",
      "123.33064583333334\n",
      "122.69691875\n",
      "122.09719583333333\n",
      "121.87289791666667\n",
      "121.07328541666666\n",
      "120.0496375\n",
      "84.02270833333333\n",
      "54.64329791666667\n",
      "92.19127083333333\n",
      "146.28580416666668\n",
      "130.42009791666666\n",
      "141.5213375\n",
      "144.46238125\n",
      "139.56029583333333\n",
      "132.56103333333334\n",
      "145.71195208333333\n",
      "177.62535625\n",
      "138.18707083333334\n",
      "142.7662375\n",
      "133.5968\n",
      "121.08888125\n",
      "117.29204166666666\n",
      "118.78747083333333\n",
      "121.00768958333333\n",
      "125.96750833333333\n",
      "125.39143125\n",
      "122.6687375\n",
      "121.31094375\n",
      "117.98079375\n",
      "111.58825416666667\n",
      "115.16193333333334\n",
      "124.51339583333333\n",
      "121.5834625\n",
      "121.108025\n",
      "125.05918541666666\n",
      "122.03808333333333\n",
      "123.50828958333334\n",
      "126.02461875\n",
      "122.98561041666666\n",
      "125.23896875\n",
      "124.91061666666667\n",
      "124.47971875\n",
      "123.03646875\n",
      "110.35136041666667\n",
      "106.45531666666666\n",
      "100.2154375\n"
     ]
    },
    {
     "ename": "KeyboardInterrupt",
     "evalue": "",
     "output_type": "error",
     "traceback": [
      "\u001b[0;31m---------------------------------------------------------------------------\u001b[0m",
      "\u001b[0;31mKeyboardInterrupt\u001b[0m                         Traceback (most recent call last)",
      "\u001b[0;32m<ipython-input-16-306067a13d07>\u001b[0m in \u001b[0;36m<module>\u001b[0;34m()\u001b[0m\n\u001b[1;32m      2\u001b[0m     \u001b[0mtime1\u001b[0m \u001b[0;34m=\u001b[0m \u001b[0mtime\u001b[0m\u001b[0;34m.\u001b[0m\u001b[0mtime\u001b[0m\u001b[0;34m(\u001b[0m\u001b[0;34m)\u001b[0m\u001b[0;34m\u001b[0m\u001b[0m\n\u001b[1;32m      3\u001b[0m     \u001b[0mret\u001b[0m\u001b[0;34m,\u001b[0m \u001b[0mnp_frame\u001b[0m \u001b[0;34m=\u001b[0m \u001b[0mcap\u001b[0m\u001b[0;34m.\u001b[0m\u001b[0mread\u001b[0m\u001b[0;34m(\u001b[0m\u001b[0;34m)\u001b[0m\u001b[0;34m\u001b[0m\u001b[0m\n\u001b[0;32m----> 4\u001b[0;31m     \u001b[0mnp_frame\u001b[0m \u001b[0;34m=\u001b[0m \u001b[0mcv2\u001b[0m\u001b[0;34m.\u001b[0m\u001b[0mresize\u001b[0m\u001b[0;34m(\u001b[0m\u001b[0mnp_frame\u001b[0m\u001b[0;34m,\u001b[0m\u001b[0;34m(\u001b[0m\u001b[0;36m800\u001b[0m\u001b[0;34m,\u001b[0m\u001b[0;36m600\u001b[0m\u001b[0;34m)\u001b[0m\u001b[0;34m)\u001b[0m\u001b[0;34m\u001b[0m\u001b[0m\n\u001b[0m\u001b[1;32m      5\u001b[0m     \u001b[0ma\u001b[0m \u001b[0;34m=\u001b[0m \u001b[0mbrightness1\u001b[0m\u001b[0;34m(\u001b[0m\u001b[0mnp_frame\u001b[0m\u001b[0;34m)\u001b[0m\u001b[0;34m\u001b[0m\u001b[0m\n\u001b[1;32m      6\u001b[0m     \u001b[0mtime2\u001b[0m \u001b[0;34m=\u001b[0m \u001b[0mtime\u001b[0m\u001b[0;34m.\u001b[0m\u001b[0mtime\u001b[0m\u001b[0;34m(\u001b[0m\u001b[0;34m)\u001b[0m\u001b[0;34m\u001b[0m\u001b[0m\n",
      "\u001b[0;31mKeyboardInterrupt\u001b[0m: "
     ]
    }
   ],
   "source": [
    "while True:\n",
    "    time1 = time.time()\n",
    "    ret, np_frame = cap.read()\n",
    "    np_frame = cv2.resize(np_frame,(800,600))\n",
    "    a = brightness1(np_frame)\n",
    "    time2 = time.time()\n",
    "    print(a)"
   ]
  },
  {
   "cell_type": "code",
   "execution_count": 27,
   "metadata": {},
   "outputs": [
    {
     "ename": "TypeError",
     "evalue": "Required argument 'mat' (pos 2) not found",
     "output_type": "error",
     "traceback": [
      "\u001b[0;31m---------------------------------------------------------------------------\u001b[0m",
      "\u001b[0;31mTypeError\u001b[0m                                 Traceback (most recent call last)",
      "\u001b[0;32m<ipython-input-27-6d98ff451e0a>\u001b[0m in \u001b[0;36m<module>\u001b[0;34m()\u001b[0m\n\u001b[0;32m----> 1\u001b[0;31m \u001b[0mcv2\u001b[0m\u001b[0;34m.\u001b[0m\u001b[0mimshow\u001b[0m\u001b[0;34m(\u001b[0m\u001b[0mnp_frame\u001b[0m\u001b[0;34m)\u001b[0m\u001b[0;34m\u001b[0m\u001b[0m\n\u001b[0m",
      "\u001b[0;31mTypeError\u001b[0m: Required argument 'mat' (pos 2) not found"
     ]
    }
   ],
   "source": [
    "cv2.imshow(np_frame)"
   ]
  },
  {
   "cell_type": "code",
   "execution_count": 28,
   "metadata": {},
   "outputs": [
    {
     "data": {
      "text/plain": [
       "<matplotlib.image.AxesImage at 0xa4d1d9f0>"
      ]
     },
     "execution_count": 28,
     "metadata": {},
     "output_type": "execute_result"
    },
    {
     "data": {
      "image/png": "[encoded data removed]",
      "text/plain": [
       "<matplotlib.figure.Figure at 0xa6185630>"
      ]
     },
     "metadata": {},
     "output_type": "display_data"
    }
   ],
   "source": [
    "from matplotlib import pyplot as plt  \n",
    "plt.imshow(np_frame[:,:,[2,1,0]])"
   ]
  },
  {
   "cell_type": "code",
   "execution_count": 17,
   "metadata": {},
   "outputs": [],
   "source": [
    "num = 0"
   ]
  },
  {
   "cell_type": "code",
   "execution_count": null,
   "metadata": {},
   "outputs": [],
   "source": []
  }
 ],
 "metadata": {
  "kernelspec": {
   "display_name": "Python 3",
   "language": "python",
   "name": "python3"
  },
  "language_info": {
   "codemirror_mode": {
    "name": "ipython",
    "version": 3
   },
   "file_extension": ".py",
   "mimetype": "text/x-python",
   "name": "python",
   "nbconvert_exporter": "python",
   "pygments_lexer": "ipython3",
   "version": "3.6.5"
  }
 },
 "nbformat": 4,
 "nbformat_minor": 2
}
