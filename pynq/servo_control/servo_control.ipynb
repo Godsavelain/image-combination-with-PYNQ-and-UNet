{
 "cells": [
  {
   "cell_type": "code",
   "execution_count": 1,
   "metadata": {},
   "outputs": [
    {
     "data": {
      "application/javascript": [
       "\n",
       "try {\n",
       "require(['notebook/js/codecell'], function(codecell) {\n",
       "  codecell.CodeCell.options_default.highlight_modes[\n",
       "      'magic_text/x-csrc'] = {'reg':[/^%%microblaze/]};\n",
       "  Jupyter.notebook.events.one('kernel_ready.Kernel', function(){\n",
       "      Jupyter.notebook.get_cells().map(function(cell){\n",
       "          if (cell.cell_type == 'code'){ cell.auto_highlight(); } }) ;\n",
       "  });\n",
       "});\n",
       "} catch (e) {};\n"
      ]
     },
     "metadata": {},
     "output_type": "display_data"
    },
    {
     "data": {
      "application/javascript": [
       "\n",
       "try {\n",
       "require(['notebook/js/codecell'], function(codecell) {\n",
       "  codecell.CodeCell.options_default.highlight_modes[\n",
       "      'magic_text/x-csrc'] = {'reg':[/^%%pybind11/]};\n",
       "  Jupyter.notebook.events.one('kernel_ready.Kernel', function(){\n",
       "      Jupyter.notebook.get_cells().map(function(cell){\n",
       "          if (cell.cell_type == 'code'){ cell.auto_highlight(); } }) ;\n",
       "  });\n",
       "});\n",
       "} catch (e) {};\n"
      ]
     },
     "metadata": {},
     "output_type": "display_data"
    }
   ],
   "source": [
    "from pynq.overlays.base import BaseOverlay\n",
    "base = BaseOverlay(\"base.bit\")"
   ]
  },
  {
   "cell_type": "code",
   "execution_count": 2,
   "metadata": {},
   "outputs": [],
   "source": [
    "from pynq.lib import Pmod_PWM\n",
    "\n",
    "pwm = Pmod_PWM(base.PMODA,0)"
   ]
  },
  {
   "cell_type": "code",
   "execution_count": 3,
   "metadata": {},
   "outputs": [],
   "source": [
    "import time\n",
    "# Generate a 10 us clocks with 50% duty cycle\n",
    "period=10000\n",
    "# duty=25\n",
    "duty=10\n",
    "pwm.generate(period,duty)"
   ]
  },
  {
   "cell_type": "code",
   "execution_count": 65,
   "metadata": {},
   "outputs": [],
   "source": [
    "base?"
   ]
  },
  {
   "cell_type": "code",
   "execution_count": 4,
   "metadata": {},
   "outputs": [],
   "source": [
    "import time\n",
    "import cv2\n",
    "from matplotlib import pyplot as plt  \n",
    "from pynq import Overlay\n",
    "import pynq.lib.dma\n",
    "from pynq import Xlnk\n",
    "import numpy as np\n",
    "from pynq import MMIO\n",
    "import random\n",
    "from pynq import allocate\n",
    "import numpy as np"
   ]
  },
  {
   "cell_type": "code",
   "execution_count": 5,
   "metadata": {},
   "outputs": [],
   "source": [
    "in_arr = allocate(shape=(600,800,3),dtype=np.uint8)\n",
    "out_arr = allocate(shape=(600,800,3),dtype=np.uint8)\n",
    "\n",
    "img = cv2.imread(\"test.jpg\")\n",
    "\n",
    "np_out = np.zeros((600,800,3), dtype=np.uint8)"
   ]
  },
  {
   "cell_type": "code",
   "execution_count": 6,
   "metadata": {},
   "outputs": [],
   "source": [
    "ip = base.ImgProcess_Top_0\n",
    "\n",
    "# dma data transfer\n",
    "dma = base.axi_dma_0\n"
   ]
  },
  {
   "cell_type": "code",
   "execution_count": 7,
   "metadata": {},
   "outputs": [],
   "source": [
    "np.copyto(in_arr,img)"
   ]
  },
  {
   "cell_type": "code",
   "execution_count": 9,
   "metadata": {},
   "outputs": [],
   "source": [
    "dma.sendchannel.transfer(in_arr)\n",
    "dma.recvchannel.transfer(out_arr)"
   ]
  },
  {
   "cell_type": "code",
   "execution_count": 10,
   "metadata": {},
   "outputs": [],
   "source": [
    "ip.write(0x00, 0x1)\n",
    "isready = ip.read(0x00)\n",
    "while (isready == 1):\n",
    "    isready = ip.read(0x00)\n",
    "# finally wait for ending\n",
    "dma.sendchannel.wait()\n",
    "dma.recvchannel.wait()"
   ]
  },
  {
   "cell_type": "code",
   "execution_count": 20,
   "metadata": {
    "scrolled": true
   },
   "outputs": [
    {
     "data": {
      "text/plain": [
       "PynqBuffer([[[0, 0, 0],\n",
       "             [0, 0, 0],\n",
       "             [0, 0, 0],\n",
       "             ...,\n",
       "             [0, 0, 0],\n",
       "             [0, 0, 0],\n",
       "             [0, 0, 0]],\n",
       "\n",
       "            [[0, 0, 0],\n",
       "             [0, 0, 0],\n",
       "             [0, 0, 0],\n",
       "             ...,\n",
       "             [0, 0, 0],\n",
       "             [0, 0, 0],\n",
       "             [0, 0, 0]],\n",
       "\n",
       "            [[0, 0, 0],\n",
       "             [0, 0, 0],\n",
       "             [0, 0, 0],\n",
       "             ...,\n",
       "             [0, 0, 0],\n",
       "             [0, 0, 0],\n",
       "             [0, 0, 0]],\n",
       "\n",
       "            ...,\n",
       "\n",
       "            [[0, 0, 0],\n",
       "             [0, 0, 0],\n",
       "             [0, 0, 0],\n",
       "             ...,\n",
       "             [0, 0, 0],\n",
       "             [0, 0, 0],\n",
       "             [0, 0, 0]],\n",
       "\n",
       "            [[0, 0, 0],\n",
       "             [0, 0, 0],\n",
       "             [0, 0, 0],\n",
       "             ...,\n",
       "             [0, 0, 0],\n",
       "             [0, 0, 0],\n",
       "             [0, 0, 0]],\n",
       "\n",
       "            [[0, 0, 0],\n",
       "             [0, 0, 0],\n",
       "             [0, 0, 0],\n",
       "             ...,\n",
       "             [0, 0, 0],\n",
       "             [0, 0, 0],\n",
       "             [0, 0, 0]]], dtype=uint8)"
      ]
     },
     "execution_count": 20,
     "metadata": {},
     "output_type": "execute_result"
    }
   ],
   "source": [
    "out_arr"
   ]
  },
  {
   "cell_type": "code",
   "execution_count": 11,
   "metadata": {},
   "outputs": [],
   "source": [
    "num = ip.read(0x18)\n",
    "sum = ip.read(0x10)"
   ]
  },
  {
   "cell_type": "code",
   "execution_count": 12,
   "metadata": {},
   "outputs": [
    {
     "name": "stdout",
     "output_type": "stream",
     "text": [
      "51647840\n",
      "79501\n"
     ]
    }
   ],
   "source": [
    "print(sum)\n",
    "print(num)"
   ]
  },
  {
   "cell_type": "code",
   "execution_count": 13,
   "metadata": {},
   "outputs": [
    {
     "data": {
      "text/plain": [
       "649.6501930793323"
      ]
     },
     "execution_count": 13,
     "metadata": {},
     "output_type": "execute_result"
    }
   ],
   "source": [
    "51647840/79501"
   ]
  },
  {
   "cell_type": "code",
   "execution_count": 46,
   "metadata": {},
   "outputs": [],
   "source": [
    "pwm.stop()"
   ]
  },
  {
   "cell_type": "code",
   "execution_count": 95,
   "metadata": {},
   "outputs": [],
   "source": [
    "def leftshift(primitive,angle):\n",
    "    primitive = primitive + 50*angle\n",
    "    if(primitive > 10500):\n",
    "        primitive = 10500\n",
    "    pwm.generate(primitive,duty)\n",
    "    return primitive\n",
    "    \n",
    "def rightshift(primitive,angle):\n",
    "    primitive = primitive - 50*angle\n",
    "    if(primitive < 9500):\n",
    "        primitive = 9500\n",
    "    pwm.generate(primitive,duty)\n",
    "    return primitive"
   ]
  },
  {
   "cell_type": "code",
   "execution_count": 9,
   "metadata": {},
   "outputs": [],
   "source": [
    "angle = 10000"
   ]
  },
  {
   "cell_type": "code",
   "execution_count": 93,
   "metadata": {},
   "outputs": [
    {
     "data": {
      "text/plain": [
       "10000"
      ]
     },
     "execution_count": 93,
     "metadata": {},
     "output_type": "execute_result"
    }
   ],
   "source": [
    "angle = rightshift(angle,4)\n",
    "angle"
   ]
  },
  {
   "cell_type": "code",
   "execution_count": 10,
   "metadata": {},
   "outputs": [],
   "source": [
    "import time\n",
    "import cv2\n",
    "from matplotlib import pyplot as plt  \n",
    "from pynq import Overlay\n",
    "import pynq.lib.dma\n",
    "from pynq import Xlnk\n",
    "import numpy as np\n",
    "from pynq import MMIO\n",
    "import random\n",
    "from pynq import allocate\n",
    "import numpy as np"
   ]
  },
  {
   "cell_type": "code",
   "execution_count": 11,
   "metadata": {},
   "outputs": [],
   "source": [
    "in_arr = allocate(shape=(600,800,3),dtype=np.uint8)\n",
    "out_arr = allocate(shape=(600,800,3),dtype=np.uint8)\n",
    "\n",
    "img = cv2.imread(\"test.jpg\")\n",
    "\n",
    "np_out = np.zeros((600,800,3), dtype=np.uint8)"
   ]
  },
  {
   "cell_type": "code",
   "execution_count": 12,
   "metadata": {},
   "outputs": [],
   "source": [
    "ip = base.ImgProcess_Top_0\n",
    "# dma data transfer\n",
    "dma = base.axi_dma_0"
   ]
  },
  {
   "cell_type": "code",
   "execution_count": 13,
   "metadata": {},
   "outputs": [],
   "source": [
    "import time\n",
    "import cv2                                   \n",
    "\n",
    "\n",
    "from matplotlib import pyplot as plt  \n",
    "from pynq import Overlay\n",
    "import pynq.lib.dma\n",
    "from pynq import Xlnk\n",
    "import numpy as np\n",
    "from pynq import MMIO\n",
    "import random\n",
    "from pynq import allocate\n",
    "import numpy as np\n",
    "import socket, time"
   ]
  },
  {
   "cell_type": "code",
   "execution_count": 44,
   "metadata": {},
   "outputs": [
    {
     "data": {
      "text/plain": [
       "True"
      ]
     },
     "execution_count": 44,
     "metadata": {},
     "output_type": "execute_result"
    }
   ],
   "source": [
    "#open camera\n",
    "frame_in_w = 1280\n",
    "frame_in_h = 720\n",
    "\n",
    "cap = cv2.VideoCapture(0)\n",
    "cap.set(cv2.CAP_PROP_FRAME_WIDTH, frame_in_w)#set picture width\n",
    "cap.set(cv2.CAP_PROP_FRAME_HEIGHT, frame_in_h)#set hight\n",
    "cap.open(0)"
   ]
  },
  {
   "cell_type": "code",
   "execution_count": 122,
   "metadata": {
    "scrolled": true
   },
   "outputs": [
    {
     "name": "stdout",
     "output_type": "stream",
     "text": [
      "399.76167883566507\n",
      "394.7972135515798\n",
      "470.06547568813653\n",
      "536.3638938198385\n",
      "542.6952959753589\n",
      "552.1277841036065\n",
      "556.91881869951\n",
      "537.6918677629478\n",
      "601.8186324053785\n",
      "624.0884737938642\n",
      "654.8767079362252\n",
      "662.1860657397408\n",
      "356.2628410787459\n",
      "264.7016761394852\n",
      "231.0228367038107\n",
      "238.71713643168695\n",
      "246.98822220356064\n",
      "279.05092697213206\n",
      "271.258107113225\n",
      "253.1104726009762\n",
      "267.0793783510399\n",
      "298.8906254017722\n",
      "233.97208850888117\n",
      "224.43731260827823\n",
      "242.2308291613164\n",
      "311.8286668501001\n",
      "337.0134678147556\n",
      "494.30300967937086\n",
      "508.43496917202594\n",
      "546.0770728730339\n",
      "541.858441098709\n",
      "500.6574392952509\n",
      "505.5087378915765\n",
      "480.85913806397343\n",
      "516.2428591582923\n",
      "527.4207936443185\n",
      "527.541498691276\n",
      "533.7286726341745\n",
      "531.706890910626\n",
      "545.0953805711555\n",
      "555.1391019201793\n",
      "551.9060719073426\n",
      "518.925792876406\n",
      "423.7726840840732\n",
      "440.76407267536945\n",
      "87.41950491268271\n",
      "95.20868663679786\n",
      "97.00145926817702\n",
      "114.4286067193676\n",
      "140.38156028368795\n",
      "168.4708504618013\n",
      "202.830789543174\n",
      "245.5444877415165\n",
      "238.5600239279985\n",
      "544.8327804745182\n",
      "251.09820234337383\n",
      "251.8930880025749\n",
      "251.36494546236096\n",
      "254.4989383703295\n",
      "251.95155632273512\n",
      "249.47525505890312\n",
      "249.5906833902586\n",
      "249.49216528350067\n",
      "250.01398437728562\n",
      "247.73475618706513\n",
      "249.32360232144418\n",
      "250.386191796818\n",
      "248.01158769103432\n",
      "246.98597349886595\n",
      "247.79697822544807\n",
      "247.69177045745548\n",
      "249.6757460784869\n",
      "250.1439702843099\n",
      "251.4732934850842\n",
      "254.5042958535674\n",
      "256.8500541654557\n",
      "256.0250598857564\n",
      "256.49695496484486\n",
      "259.0698395473219\n",
      "257.2971001324022\n",
      "255.97285886610373\n",
      "254.27340251804245\n",
      "250.18440916539072\n",
      "248.91489476524555\n",
      "249.6514225443531\n",
      "249.0348150366116\n",
      "249.93560965042917\n",
      "247.96287526196892\n",
      "248.18645903859175\n",
      "248.8218109679874\n",
      "246.12424684293063\n",
      "245.78141846361186\n",
      "244.51787905596302\n",
      "243.92470910335388\n",
      "246.28097937998928\n",
      "244.25790974005815\n",
      "246.1673147365455\n",
      "247.53936427598097\n",
      "249.02703071299985\n",
      "250.63527374090012\n",
      "252.36825004699122\n",
      "250.82039528675816\n",
      "251.87332012635864\n",
      "251.27069465321023\n",
      "250.23798368204217\n",
      "249.68616362363332\n",
      "249.78516045660135\n",
      "249.16589264499407\n",
      "250.0364718817882\n",
      "250.70496264674492\n",
      "251.7872131321717\n",
      "251.4503664754621\n",
      "250.90127202086327\n",
      "252.10734373341822\n",
      "251.0806902612447\n",
      "250.47423641253695\n",
      "249.7064839106923\n",
      "248.63958954522255\n",
      "249.01472718493483\n",
      "248.301079901974\n",
      "248.5395069702352\n",
      "248.67988729370722\n",
      "250.43833865814696\n",
      "250.08262062718143\n",
      "251.47455208498494\n",
      "252.44968478805623\n",
      "251.67008704827222\n",
      "252.0768581081081\n",
      "250.73068082745502\n",
      "252.8126456952775\n",
      "253.4530262676902\n",
      "253.727779659692\n",
      "251.52879030774486\n",
      "250.2087233196341\n",
      "249.73670554247806\n",
      "247.31555231773785\n",
      "245.08739239402854\n",
      "246.10313130762097\n",
      "246.82317657692204\n",
      "245.15929032614093\n",
      "244.65126455128382\n",
      "244.024505339846\n",
      "243.63437171471256\n",
      "244.14750782700247\n",
      "243.89138016940709\n",
      "244.42231735948073\n",
      "245.4462924080009\n",
      "246.19043974965155\n",
      "246.27085948158253\n",
      "244.79204216505545\n",
      "246.08975747076656\n",
      "244.46520547945207\n",
      "245.46224667683592\n",
      "243.5198680049498\n",
      "244.86601307189542\n",
      "243.80647466197647\n",
      "244.1576280471104\n",
      "242.70575833082336\n",
      "243.76362885462555\n",
      "243.83357269111798\n",
      "245.9795744212294\n",
      "242.4059336726134\n",
      "243.47113106024702\n",
      "242.25577669084163\n",
      "241.8784009040825\n",
      "243.8769386663664\n",
      "244.2172181372549\n",
      "242.78439476311993\n",
      "245.2408308280951\n",
      "245.76088370832204\n",
      "247.98050415661035\n",
      "246.80225204792274\n",
      "248.383541436173\n",
      "250.35841334802456\n",
      "250.39077669902912\n",
      "250.3604117800365\n",
      "251.35698534180827\n",
      "253.04226588520822\n",
      "252.29358673508858\n",
      "253.15423000745943\n",
      "254.41394491655575\n",
      "247.21198697068405\n",
      "249.1406812372855\n",
      "250.31420324526732\n",
      "249.07410320956578\n",
      "249.2569083949452\n",
      "249.8272574900482\n",
      "247.3705186629086\n",
      "248.08156307369526\n",
      "246.7869477225537\n",
      "245.76958317885706\n",
      "248.13331245432718\n",
      "260.01043668411637\n",
      "207.2663946133442\n",
      "244.63023451086198\n",
      "201.81976653494178\n",
      "203.33525604416525\n",
      "223.9661664522891\n",
      "255.1328563774222\n",
      "287.51476954992336\n",
      "332.67658676642225\n",
      "392.6345646101453\n",
      "374.24126049082264\n",
      "321.89780776883816\n",
      "291.4863278525162\n",
      "280.6004784688995\n",
      "320.0566600397614\n",
      "310.2278360343184\n",
      "309.67020148462353\n",
      "312.5326086956522\n",
      "319.3653603034134\n",
      "320.41337719298247\n",
      "319.0323353293413\n",
      "321.6125290023202\n",
      "340.8152958152958\n",
      "339.5074380165289\n",
      "341.5013440860215\n",
      "341.84057971014494\n",
      "339.00443131462333\n",
      "344.22222222222223\n",
      "351.6279926335175\n",
      "329.6702269692924\n",
      "352.57142857142856\n",
      "340.07993474714516\n",
      "343.0561122244489\n",
      "336.0494296577947\n",
      "337.6836935166994\n",
      "337.0547263681592\n",
      "337.2207505518764\n",
      "346.3402489626556\n",
      "335.0560344827586\n",
      "352.4070796460177\n",
      "337.41702127659573\n",
      "346.48979591836735\n",
      "336.8899521531101\n",
      "338.151376146789\n",
      "327.584229390681\n",
      "344.197247706422\n",
      "341.7313432835821\n",
      "335.046218487395\n",
      "330.53333333333336\n",
      "348.80434782608694\n",
      "344.6261261261261\n",
      "333.18402777777777\n",
      "348.3659793814433\n",
      "356.5422885572139\n",
      "339.64016736401675\n",
      "345.1693548387097\n",
      "350.6543778801843\n",
      "336.10697674418606\n",
      "334.77272727272725\n",
      "350.35833333333335\n",
      "344.7991967871486\n",
      "340.55871886120997\n",
      "349.57416267942585\n",
      "337.22633744855966\n",
      "337.80428134556576\n",
      "340.0\n",
      "335.7786561264822\n",
      "338.4364261168385\n",
      "337.2\n",
      "338.3254237288136\n",
      "343.68333333333334\n",
      "341.8671875\n",
      "341.3468634686347\n",
      "346.06584362139915\n",
      "334.0486891385768\n",
      "332.90494296577947\n",
      "342.9322709163347\n",
      "344.6923076923077\n",
      "343.984126984127\n",
      "336.4054054054054\n",
      "336.1106194690266\n",
      "346.64478764478764\n",
      "336.85393258426967\n",
      "329.48818897637796\n",
      "342.968253968254\n",
      "330.02928870292885\n",
      "328.28846153846155\n",
      "344.1149825783972\n",
      "345.6565217391304\n",
      "353.37307692307695\n",
      "336.8582995951417\n",
      "327.29411764705884\n",
      "342.20152091254755\n",
      "354.275\n",
      "347.21722846441946\n",
      "340.35531135531136\n",
      "348.8388888888889\n",
      "359.9269406392694\n",
      "354.6913043478261\n",
      "347.2671232876712\n",
      "350.4808510638298\n",
      "338.2767527675277\n",
      "348.5765765765766\n",
      "333.67724867724866\n",
      "329.0692640692641\n",
      "335.93333333333334\n",
      "351.46478873239437\n",
      "366.5882352941176\n",
      "348.01418439716315\n",
      "344.8888888888889\n",
      "341.8429752066116\n",
      "349.63598326359835\n",
      "333.36059479553904\n",
      "338.61937716262975\n",
      "338.7688888888889\n",
      "337.3758620689655\n",
      "340.6887755102041\n",
      "332.0\n",
      "344.39299610894943\n",
      "353.1513157894737\n",
      "347.3835616438356\n",
      "337.887417218543\n",
      "332.52941176470586\n",
      "347.82312925170066\n",
      "354.07971014492756\n",
      "345.9019607843137\n",
      "355.4834437086093\n",
      "349.67333333333335\n",
      "353.26271186440675\n",
      "340.29940119760477\n",
      "359.06113537117903\n",
      "348.5734597156398\n",
      "344.29680365296804\n",
      "348.8792270531401\n",
      "343.0826086956522\n",
      "350.3333333333333\n",
      "341.4117647058824\n",
      "340.6026200873362\n",
      "340.8785046728972\n",
      "337.0532786885246\n",
      "332.49122807017545\n",
      "349.89328063241106\n",
      "340.141065830721\n",
      "347.656652360515\n",
      "335.9037656903766\n",
      "338.27152317880797\n",
      "336.8484848484849\n",
      "333.4142857142857\n",
      "339.5022026431718\n",
      "338.0\n",
      "349.85185185185185\n",
      "333.9281045751634\n",
      "359.1142857142857\n",
      "344.35074626865674\n",
      "356.656\n",
      "344.25652173913045\n",
      "338.72527472527474\n",
      "346.3320610687023\n",
      "345.47080291970804\n",
      "337.72549019607845\n",
      "340.9236947791165\n",
      "346.65811965811963\n",
      "338.647577092511\n",
      "332.0\n",
      "338.99630996309963\n",
      "344.9040404040404\n",
      "358.09638554216866\n",
      "342.62068965517244\n",
      "339.13718411552344\n",
      "346.9367088607595\n",
      "344.04912280701757\n",
      "346.0839160839161\n",
      "335.6313725490196\n",
      "331.8955223880597\n",
      "347.2008368200837\n",
      "337.2068965517241\n",
      "334.70552147239266\n",
      "348.76056338028167\n",
      "349.8808664259928\n",
      "333.4066666666667\n",
      "355.28025477707007\n",
      "342.11290322580646\n",
      "348.9171270718232\n",
      "348.5890410958904\n",
      "356.21875\n",
      "342.67464114832535\n",
      "352.2892561983471\n"
     ]
    },
    {
     "ename": "KeyboardInterrupt",
     "evalue": "",
     "output_type": "error",
     "traceback": [
      "\u001b[0;31m---------------------------------------------------------------------------\u001b[0m",
      "\u001b[0;31mKeyboardInterrupt\u001b[0m                         Traceback (most recent call last)",
      "\u001b[0;32m<ipython-input-122-d1ddede5e600>\u001b[0m in \u001b[0;36m<module>\u001b[0;34m()\u001b[0m\n\u001b[1;32m     21\u001b[0m         \u001b[0msum\u001b[0m \u001b[0;34m=\u001b[0m \u001b[0mip\u001b[0m\u001b[0;34m.\u001b[0m\u001b[0mread\u001b[0m\u001b[0;34m(\u001b[0m\u001b[0;36m0x10\u001b[0m\u001b[0;34m)\u001b[0m\u001b[0;34m\u001b[0m\u001b[0m\n\u001b[1;32m     22\u001b[0m         \u001b[0mnum\u001b[0m \u001b[0;34m=\u001b[0m \u001b[0mip\u001b[0m\u001b[0;34m.\u001b[0m\u001b[0mread\u001b[0m\u001b[0;34m(\u001b[0m\u001b[0;36m0x18\u001b[0m\u001b[0;34m)\u001b[0m\u001b[0;34m\u001b[0m\u001b[0m\n\u001b[0;32m---> 23\u001b[0;31m         \u001b[0mout\u001b[0m\u001b[0;34m.\u001b[0m\u001b[0mwrite\u001b[0m\u001b[0;34m(\u001b[0m\u001b[0mnp_frame\u001b[0m\u001b[0;34m)\u001b[0m\u001b[0;34m\u001b[0m\u001b[0m\n\u001b[0m\u001b[1;32m     24\u001b[0m     \u001b[0mpos\u001b[0m \u001b[0;34m=\u001b[0m \u001b[0msum\u001b[0m\u001b[0;34m/\u001b[0m\u001b[0;34m(\u001b[0m\u001b[0mnum\u001b[0m\u001b[0;34m+\u001b[0m\u001b[0;36m1\u001b[0m\u001b[0;34m)\u001b[0m\u001b[0;34m\u001b[0m\u001b[0m\n\u001b[1;32m     25\u001b[0m     \u001b[0mprint\u001b[0m\u001b[0;34m(\u001b[0m\u001b[0mpos\u001b[0m\u001b[0;34m)\u001b[0m\u001b[0;34m\u001b[0m\u001b[0m\n",
      "\u001b[0;31mKeyboardInterrupt\u001b[0m: "
     ]
    }
   ],
   "source": [
    "#open camera \n",
    "frame_in_w = 1280 \n",
    "frame_in_h = 720\n",
    "cap = cv2.VideoCapture(0) \n",
    "cap.set(cv2.CAP_PROP_FRAME_WIDTH, frame_in_w)#set picture width \n",
    "cap.set(cv2.CAP_PROP_FRAME_HEIGHT, frame_in_h)#set hight \n",
    "cap.open(0)\n",
    "while True:\n",
    "    for i in range(1,5):\n",
    "        ret, np_frame = cap.read()\n",
    "        np_frame = cv2.resize(np_frame,(800,600))\n",
    "        np.copyto(in_arr,np_frame)\n",
    "        dma.sendchannel.transfer(in_arr)\n",
    "        dma.recvchannel.transfer(out_arr)\n",
    "        ip.write(0x00, 0x1)\n",
    "        isready = ip.read(0x00)\n",
    "        while (isready == 1):\n",
    "            isready = ip.read(0x00)\n",
    "        dma.sendchannel.wait()\n",
    "        dma.recvchannel.wait()\n",
    "        sum = ip.read(0x10)\n",
    "        num = ip.read(0x18)\n",
    "        out.write(np_frame)\n",
    "    pos = sum/(num+1)\n",
    "    print(pos)\n",
    "    if(pos > 550):\n",
    "        angle = rightshift(angle,2)\n",
    "    if(pos < 250):\n",
    "        angle = leftshift(angle,2)"
   ]
  },
  {
   "cell_type": "code",
   "execution_count": 84,
   "metadata": {},
   "outputs": [],
   "source": [
    "angle = 10000\n",
    "pwm.generate(angle,duty)"
   ]
  },
  {
   "cell_type": "code",
   "execution_count": null,
   "metadata": {},
   "outputs": [],
   "source": [
    "np.copyto(np_out,out_arr)\n",
    "from matplotlib import pyplot as plt  \n",
    "plt.imshow(np_out[:,:,[2,1,0]])"
   ]
  },
  {
   "cell_type": "code",
   "execution_count": 21,
   "metadata": {},
   "outputs": [
    {
     "data": {
      "text/plain": [
       "11400"
      ]
     },
     "execution_count": 21,
     "metadata": {},
     "output_type": "execute_result"
    }
   ],
   "source": [
    "angle"
   ]
  },
  {
   "cell_type": "code",
   "execution_count": 78,
   "metadata": {},
   "outputs": [
    {
     "name": "stdout",
     "output_type": "stream",
     "text": [
      "139.27894612939932\n",
      "139.06307595780558\n",
      "137.35008651879818\n",
      "137.74160328596977\n",
      "137.59982347749337\n",
      "138.36404736275566\n",
      "136.66148824038385\n",
      "134.42808239507687\n",
      "134.22903788239023\n",
      "137.04991818307278\n",
      "136.3375659500748\n",
      "138.86044591246903\n",
      "137.16817912803313\n"
     ]
    },
    {
     "ename": "KeyboardInterrupt",
     "evalue": "",
     "output_type": "error",
     "traceback": [
      "\u001b[0;31m---------------------------------------------------------------------------\u001b[0m",
      "\u001b[0;31mKeyboardInterrupt\u001b[0m                         Traceback (most recent call last)",
      "\u001b[0;32m<ipython-input-78-e4b29c13e88c>\u001b[0m in \u001b[0;36m<module>\u001b[0;34m()\u001b[0m\n\u001b[1;32m      9\u001b[0m     \u001b[0;32mwhile\u001b[0m \u001b[0;34m(\u001b[0m\u001b[0misready\u001b[0m \u001b[0;34m==\u001b[0m \u001b[0;36m1\u001b[0m\u001b[0;34m)\u001b[0m\u001b[0;34m:\u001b[0m\u001b[0;34m\u001b[0m\u001b[0m\n\u001b[1;32m     10\u001b[0m         \u001b[0misready\u001b[0m \u001b[0;34m=\u001b[0m \u001b[0mip\u001b[0m\u001b[0;34m.\u001b[0m\u001b[0mread\u001b[0m\u001b[0;34m(\u001b[0m\u001b[0;36m0x00\u001b[0m\u001b[0;34m)\u001b[0m\u001b[0;34m\u001b[0m\u001b[0m\n\u001b[0;32m---> 11\u001b[0;31m     \u001b[0mdma\u001b[0m\u001b[0;34m.\u001b[0m\u001b[0msendchannel\u001b[0m\u001b[0;34m.\u001b[0m\u001b[0mwait\u001b[0m\u001b[0;34m(\u001b[0m\u001b[0;34m)\u001b[0m\u001b[0;34m\u001b[0m\u001b[0m\n\u001b[0m\u001b[1;32m     12\u001b[0m     \u001b[0mdma\u001b[0m\u001b[0;34m.\u001b[0m\u001b[0mrecvchannel\u001b[0m\u001b[0;34m.\u001b[0m\u001b[0mwait\u001b[0m\u001b[0;34m(\u001b[0m\u001b[0;34m)\u001b[0m\u001b[0;34m\u001b[0m\u001b[0m\n\u001b[1;32m     13\u001b[0m     \u001b[0msum\u001b[0m \u001b[0;34m=\u001b[0m \u001b[0mip\u001b[0m\u001b[0;34m.\u001b[0m\u001b[0mread\u001b[0m\u001b[0;34m(\u001b[0m\u001b[0;36m0x10\u001b[0m\u001b[0;34m)\u001b[0m\u001b[0;34m\u001b[0m\u001b[0m\n",
      "\u001b[0;32m/usr/local/lib/python3.6/dist-packages/pynq/lib/dma.py\u001b[0m in \u001b[0;36mwait\u001b[0;34m(self)\u001b[0m\n\u001b[1;32m    216\u001b[0m                     raise RuntimeError(\n\u001b[1;32m    217\u001b[0m                         'DMA Decode Error (invalid address)')\n\u001b[0;32m--> 218\u001b[0;31m             \u001b[0;32mif\u001b[0m \u001b[0mself\u001b[0m\u001b[0;34m.\u001b[0m\u001b[0midle\u001b[0m\u001b[0;34m:\u001b[0m\u001b[0;34m\u001b[0m\u001b[0m\n\u001b[0m\u001b[1;32m    219\u001b[0m                 \u001b[0;32mbreak\u001b[0m\u001b[0;34m\u001b[0m\u001b[0m\n\u001b[1;32m    220\u001b[0m         \u001b[0;32mif\u001b[0m \u001b[0;32mnot\u001b[0m \u001b[0mself\u001b[0m\u001b[0;34m.\u001b[0m\u001b[0m_flush_before\u001b[0m\u001b[0;34m:\u001b[0m\u001b[0;34m\u001b[0m\u001b[0m\n",
      "\u001b[0;32m/usr/local/lib/python3.6/dist-packages/pynq/lib/dma.py\u001b[0m in \u001b[0;36midle\u001b[0;34m(self)\u001b[0m\n\u001b[1;32m    102\u001b[0m         \u001b[0;32mreturn\u001b[0m \u001b[0mself\u001b[0m\u001b[0;34m.\u001b[0m\u001b[0m_mmio\u001b[0m\u001b[0;34m.\u001b[0m\u001b[0mread\u001b[0m\u001b[0;34m(\u001b[0m\u001b[0mself\u001b[0m\u001b[0;34m.\u001b[0m\u001b[0m_offset\u001b[0m \u001b[0;34m+\u001b[0m \u001b[0;36m4\u001b[0m\u001b[0;34m)\u001b[0m \u001b[0;34m&\u001b[0m \u001b[0;36m0x01\u001b[0m \u001b[0;34m==\u001b[0m \u001b[0;36m0x00\u001b[0m\u001b[0;34m\u001b[0m\u001b[0m\n\u001b[1;32m    103\u001b[0m \u001b[0;34m\u001b[0m\u001b[0m\n\u001b[0;32m--> 104\u001b[0;31m     \u001b[0;34m@\u001b[0m\u001b[0mproperty\u001b[0m\u001b[0;34m\u001b[0m\u001b[0m\n\u001b[0m\u001b[1;32m    105\u001b[0m     \u001b[0;32mdef\u001b[0m \u001b[0midle\u001b[0m\u001b[0;34m(\u001b[0m\u001b[0mself\u001b[0m\u001b[0;34m)\u001b[0m\u001b[0;34m:\u001b[0m\u001b[0;34m\u001b[0m\u001b[0m\n\u001b[1;32m    106\u001b[0m         \"\"\"True if the DMA engine is idle\n",
      "\u001b[0;31mKeyboardInterrupt\u001b[0m: "
     ]
    }
   ],
   "source": [
    "while True:\n",
    "    ret, np_frame = cap.read()\n",
    "    np_frame = cv2.resize(np_frame,(800,600))\n",
    "    np.copyto(in_arr,np_frame)\n",
    "    dma.sendchannel.transfer(in_arr)\n",
    "    dma.recvchannel.transfer(out_arr)\n",
    "    ip.write(0x00, 0x1)\n",
    "    isready = ip.read(0x00)\n",
    "    while (isready == 1):\n",
    "        isready = ip.read(0x00)\n",
    "    dma.sendchannel.wait()\n",
    "    dma.recvchannel.wait()\n",
    "    sum = ip.read(0x10)\n",
    "    num = ip.read(0x18)\n",
    "    pos = sum/(num+1)\n",
    "    print(pos)"
   ]
  },
  {
   "cell_type": "code",
   "execution_count": 120,
   "metadata": {},
   "outputs": [],
   "source": [
    "cap.release()"
   ]
  },
  {
   "cell_type": "markdown",
   "metadata": {},
   "source": [
    "#open camera\n",
    "frame_in_w = 1280\n",
    "frame_in_h = 720\n",
    "\n",
    "cap = cv2.VideoCapture(0)\n",
    "cap.set(cv2.CAP_PROP_FRAME_WIDTH, frame_in_w)#set picture width\n",
    "cap.set(cv2.CAP_PROP_FRAME_HEIGHT, frame_in_h)#set hight\n",
    "cap.open(0)"
   ]
  },
  {
   "cell_type": "code",
   "execution_count": 119,
   "metadata": {},
   "outputs": [],
   "source": [
    "angle = 10000\n",
    "pwm.generate(angle,duty)"
   ]
  },
  {
   "cell_type": "code",
   "execution_count": 77,
   "metadata": {},
   "outputs": [
    {
     "data": {
      "text/plain": [
       "True"
      ]
     },
     "execution_count": 77,
     "metadata": {},
     "output_type": "execute_result"
    }
   ],
   "source": [
    "#open camera \n",
    "frame_in_w = 1280 \n",
    "frame_in_h = 720\n",
    "cap = cv2.VideoCapture(0) \n",
    "cap.set(cv2.CAP_PROP_FRAME_WIDTH, frame_in_w)#set picture width \n",
    "cap.set(cv2.CAP_PROP_FRAME_HEIGHT, frame_in_h)#set hight \n",
    "cap.open(0)"
   ]
  },
  {
   "cell_type": "code",
   "execution_count": 121,
   "metadata": {},
   "outputs": [],
   "source": [
    "cap2 = cv2.VideoCapture(1) \n",
    "fourcc = cv2.VideoWriter_fourcc(*'mp4v')\n",
    "out = cv2.VideoWriter('testwrite.mp4',fourcc, 10.0, (800,600),True)"
   ]
  },
  {
   "cell_type": "code",
   "execution_count": 123,
   "metadata": {},
   "outputs": [],
   "source": [
    "cap2.release()\n",
    "out.release()"
   ]
  },
  {
   "cell_type": "code",
   "execution_count": 101,
   "metadata": {},
   "outputs": [
    {
     "data": {
      "text/plain": [
       "10500"
      ]
     },
     "execution_count": 101,
     "metadata": {},
     "output_type": "execute_result"
    }
   ],
   "source": [
    "angle"
   ]
  },
  {
   "cell_type": "code",
   "execution_count": null,
   "metadata": {},
   "outputs": [],
   "source": []
  }
 ],
 "metadata": {
  "kernelspec": {
   "display_name": "Python 3",
   "language": "python",
   "name": "python3"
  },
  "language_info": {
   "codemirror_mode": {
    "name": "ipython",
    "version": 3
   },
   "file_extension": ".py",
   "mimetype": "text/x-python",
   "name": "python",
   "nbconvert_exporter": "python",
   "pygments_lexer": "ipython3",
   "version": "3.6.5"
  }
 },
 "nbformat": 4,
 "nbformat_minor": 2
}
